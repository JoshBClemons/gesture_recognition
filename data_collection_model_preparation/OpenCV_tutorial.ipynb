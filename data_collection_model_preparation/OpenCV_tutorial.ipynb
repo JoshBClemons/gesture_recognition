{
 "cells": [
  {
   "cell_type": "markdown",
   "metadata": {},
   "source": [
    "### OpenCV course tutorial: https://www.youtube.com/watch?v=oXlwWbU8l2o&ab_channel=freeCodeCamp.org\n",
    "- draw images on a frame (e.g. bounding box)\n",
    "- apply blur on images to reduce noise\n",
    "- edge cascade\n",
    "    - find edges in image\n",
    "    - as blur goes up, edges goes down"
   ]
  },
  {
   "cell_type": "code",
   "execution_count": 1,
   "metadata": {},
   "outputs": [],
   "source": [
    "# stack greyscale images: np.stack((test,) * 3, axis=-1)\n",
    "import tensorflow\n",
    "\n",
    "# blur\n",
    "blur = cv.GaussianBlur(img, (7.,7), cv.BORDER_DEFAULT)\n",
    "cv.imshow('Blur', blur)\n",
    "\n",
    "# edge cascade\n",
    "canny = cv.Canny(img, 125, 175)\n",
    "cv.imshow('Canny Edges', canny)\n",
    "\n",
    "# dilating the image\n",
    "dilated = cv.dilate(canny, (3,3), iterations=1)\n",
    "cv.imshow('Dilated', dilated)\n",
    "\n",
    "# eroding\n",
    "eroded = cv.erode(dilated, (3,3), iterations=1)\n",
    "\n",
    "# resize\n",
    "resized = cv.resize(img, (500,500), interpolation=cv.INTER_AREA)\n",
    "cv.imshow('Resized', resized)\n",
    "\n",
    "# cropping\n",
    "cropped = img[50:200, 200:400]\n",
    "cv.imshow('Cropped', cropped)\n",
    "\n",
    "cv.waitKey(0)"
   ]
  },
  {
   "cell_type": "code",
   "execution_count": 28,
   "metadata": {},
   "outputs": [
    {
     "name": "stdout",
     "output_type": "stream",
     "text": [
      "[[ 0.  0.  0.]\n",
      " [18.  0.  0.]\n",
      " [ 0. 12.  0.]]\n",
      "[[ 0.  0.  0.]\n",
      " [18.  0.  0.]\n",
      " [ 0. 12.  0.]]\n"
     ]
    }
   ],
   "source": [
    "c[a<0] = b[a<0] + a[a<0]\n",
    "print(c)\n",
    "\n",
    "c[a<0] = b[a<0] + a[a<0]\n",
    "print(c)"
   ]
  }
 ],
 "metadata": {
  "kernelspec": {
   "display_name": "Python 3",
   "language": "python",
   "name": "python3"
  },
  "language_info": {
   "codemirror_mode": {
    "name": "ipython",
    "version": 3
   },
   "file_extension": ".py",
   "mimetype": "text/x-python",
   "name": "python",
   "nbconvert_exporter": "python",
   "pygments_lexer": "ipython3",
   "version": "3.8.2"
  }
 },
 "nbformat": 4,
 "nbformat_minor": 2
}

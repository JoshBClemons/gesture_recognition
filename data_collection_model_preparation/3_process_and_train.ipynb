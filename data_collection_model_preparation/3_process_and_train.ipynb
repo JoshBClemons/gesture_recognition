{
 "cells": [
  {
   "cell_type": "code",
   "execution_count": 2,
   "metadata": {},
   "outputs": [
    {
     "name": "stderr",
     "output_type": "stream",
     "text": [
      "UsageError: Line magic function `%` not found.\n"
     ]
    }
   ],
   "source": [
    "import os\n",
    "import warnings\n",
    "import cv2\n",
    "import keras\n",
    "import matplotlib.pyplot as plt\n",
    "import matplotlib.style as style\n",
    "import numpy as np\n",
    "import pandas as pd\n",
    "from PIL import Image\n",
    "from keras import models, layers, optimizers\n",
    "from keras.applications import VGG16\n",
    "from keras.callbacks import EarlyStopping, ModelCheckpoint\n",
    "from keras.layers import Dense, Dropout, Flatten\n",
    "from keras.models import Model\n",
    "from keras.preprocessing import image as image_utils\n",
    "from keras.preprocessing.image import ImageDataGenerator\n",
    "from keras.utils import to_categorical\n",
    "from sklearn.metrics import classification_report, confusion_matrix\n",
    "from sklearn.model_selection import train_test_split\n",
    "import pdb\n",
    "\n",
    "% matplotlib inline\n",
    "style.use('seaborn-whitegrid')\n",
    "warnings.filterwarnings(action='once')"
   ]
  },
  {
   "cell_type": "code",
   "execution_count": 118,
   "metadata": {},
   "outputs": [],
   "source": [
    "def process_image(path):\n",
    "    img = Image.open(path)\n",
    "    img = np.array(img)\n",
    "    return img\n",
    "\n",
    "def process_data(X_data, y_data):\n",
    "    X_data = np.array(X_data, dtype = 'float32')\n",
    "    X_data = np.stack((X_data,)*3, axis=-1)\n",
    "    X_data /= 255\n",
    "    y_data = np.array(y_data)\n",
    "    return X_data, y_data\n",
    "\n",
    "def walk_file_tree(relative_paths, cat_num, max_count):\n",
    "    count_per_dir_dict = {}\n",
    "    num_dirs_in_excess = 0\n",
    "    count_remaining = max_count\n",
    "    X_data = []\n",
    "    for path in relative_paths:\n",
    "        for directory, subdirectories, files in os.walk(path):\n",
    "            num_files = len(files)\n",
    "        count_per_dir_dict[path] = num_files\n",
    "        if num_files <= max_count / len(dirs):\n",
    "            count_remaining -= len(files)\n",
    "        else:\n",
    "            num_dirs_in_excess += 1\n",
    "    for path in relative_paths:\n",
    "        X_data_temp = []\n",
    "        for directory, subdirectories, files in os.walk(path):\n",
    "            for file in files:\n",
    "                file_path = os.path.join(directory, file)\n",
    "                X_data_temp.append(process_image(file_path))\n",
    "        # if appropriate amount, process X_data as usual\n",
    "        if count_per_dir_dict[path] <= max_count / len(dirs):\n",
    "            X_data.extend(X_data_temp) \n",
    "        else: \n",
    "            count_for_dir = int(np.ceil(count_remaining/num_dirs_in_excess))\n",
    "            random_indices = np.random.choice(len(X_data_temp), size=count_for_dir, replace=False)\n",
    "            X_data_temp = [X_data_temp[i] for i in random_indices]\n",
    "            X_data.extend(X_data_temp) \n",
    "    y_data = [cat_num for i in range(len(X_data))]\n",
    "    X_data, y_data = process_data(X_data, y_data)\n",
    "    return X_data, y_data\n",
    "\n",
    "class Data(object):\n",
    "    def __init__(self):\n",
    "        self.X_data = []\n",
    "        self.y_data = []\n",
    "\n",
    "    def get_data(self):\n",
    "        return self.X_data, self.y_data"
   ]
  },
  {
   "cell_type": "markdown",
   "metadata": {},
   "source": [
    "#### Get image data"
   ]
  },
  {
   "cell_type": "code",
   "execution_count": 119,
   "metadata": {},
   "outputs": [
    {
     "name": "stdout",
     "output_type": "stream",
     "text": [
      "op\n",
      "cp\n",
      "l_\n",
      "fi\n",
      "tu\n"
     ]
    }
   ],
   "source": [
    "from os import listdir\n",
    "from os.path import isfile, join\n",
    "\n",
    "# define gesture input directories and make gesture dictionary\n",
    "op_input_dirs = ['2021_01_29_T19_16_17_open_palm_without_glove//pure_data']\n",
    "cp_input_dirs = ['2021_02_07_T22_01_32_closed_palm//good_data']\n",
    "l_input_dirs = ['2021_02_07_T22_02_36_L//good_data']\n",
    "fi_input_dirs = ['2021_02_01_T14_28_23_fist//pure_data']\n",
    "tu_input_dirs = ['2021_02_07_T22_03_02_thumbs_up//good_data//front', '2021_02_07_T22_03_02_thumbs_up//good_data//side']\n",
    "\n",
    "# number, name, directories\n",
    "gestures_dict = {\n",
    "    'op': [0, 'Open palm', op_input_dirs],\n",
    "    'cp': [1, 'Closed palm', cp_input_dirs],\n",
    "    'l_': [2, 'L', l_input_dirs],\n",
    "    'fi': [3, 'Fist', fi_input_dirs],\n",
    "    'tu': [4, 'Thumbs up', tu_input_dirs],\n",
    "    }\n",
    "\n",
    "# Concatenate image datasets\n",
    "max_count = 500    # number of images per category\n",
    "# X_data_prev = np.zeros((max_count, 144, 256, 3))\n",
    "# y_data_prev = np.zeros((max_count, 1))\n",
    "try:\n",
    "    del X_data, y_data, X_data_prev, y_data_prev\n",
    "except:\n",
    "    pass\n",
    "X_data = []\n",
    "y_data = []\n",
    "for key in list(gestures_dict.keys()):\n",
    "    print(key)\n",
    "    # Process the data\n",
    "    cat_num = gestures_dict[key][0]\n",
    "    name = gestures_dict[key][1]\n",
    "    dirs = gestures_dict[key][2]\n",
    "    if dirs != []:\n",
    "        X_data_temp, y_data_temp = walk_file_tree(dirs, cat_num, max_count)\n",
    "        # concatenate data\n",
    "        try:\n",
    "            X_data = np.concatenate((X_data_temp, X_data), axis=0)\n",
    "            y_data = np.concatenate((y_data_temp, y_data), axis=0)\n",
    "        except:\n",
    "            X_data = X_data_temp\n",
    "            y_data = y_data_temp\n",
    "    \n",
    "y_data = to_categorical(y_data)"
   ]
  },
  {
   "cell_type": "code",
   "execution_count": 208,
   "metadata": {},
   "outputs": [
    {
     "data": {
      "text/plain": [
       "array([[0., 0., 0., 0., 1.],\n",
       "       [0., 0., 0., 0., 1.],\n",
       "       [0., 0., 0., 0., 1.],\n",
       "       ...,\n",
       "       [1., 0., 0., 0., 0.],\n",
       "       [1., 0., 0., 0., 0.],\n",
       "       [1., 0., 0., 0., 0.]], dtype=float32)"
      ]
     },
     "execution_count": 208,
     "metadata": {},
     "output_type": "execute_result"
    }
   ],
   "source": [
    "y_data"
   ]
  },
  {
   "cell_type": "code",
   "execution_count": 120,
   "metadata": {},
   "outputs": [
    {
     "name": "stdout",
     "output_type": "stream",
     "text": [
      "X_data shape: (2500, 144, 256, 3)\n",
      "y_data shape: (2500, 5)\n"
     ]
    }
   ],
   "source": [
    "print(f'X_data shape: {X_data.shape}')\n",
    "print(f'y_data shape: {y_data.shape}')"
   ]
  },
  {
   "cell_type": "code",
   "execution_count": 121,
   "metadata": {
    "scrolled": false
   },
   "outputs": [
    {
     "data": {
      "text/plain": [
       "<matplotlib.image.AxesImage at 0x1d29dab2700>"
      ]
     },
     "execution_count": 121,
     "metadata": {},
     "output_type": "execute_result"
    },
    {
     "data": {
      "image/png": "[encoded data removed]",
      "text/plain": [
       "<Figure size 432x288 with 1 Axes>"
      ]
     },
     "metadata": {
      "needs_background": "light"
     },
     "output_type": "display_data"
    }
   ],
   "source": [
    "plt.imshow(X_data[0])"
   ]
  },
  {
   "cell_type": "markdown",
   "metadata": {},
   "source": [
    "### Image Augmentation"
   ]
  },
  {
   "cell_type": "code",
   "execution_count": 96,
   "metadata": {},
   "outputs": [],
   "source": [
    "import tensorflow as tf\n",
    "import math\n",
    "import cv2\n",
    "\n",
    "orig = X_data[0]\n",
    "save_to_dir = 'C://Users//clemo//git//motion_identification//model_preparation//augmented_images'\n",
    "\n",
    "# save original\n",
    "orig_path = os.path.join(save_to_dir, 'original.jpg')\n",
    "plt.imsave(orig_path, orig)\n",
    "\n",
    "# flip image 180 degrees\n",
    "img = tf.image.rot90(orig)\n",
    "img = tf.image.rot90(img)\n",
    "flipped_path = os.path.join(save_to_dir, 'flipped.jpg')\n",
    "tf.keras.preprocessing.image.save_img(flipped_path, img)\n",
    "\n",
    "# flip image horizontal and flip resultant image 180 degrees \n",
    "from keras.preprocessing.image import ImageDataGenerator\n",
    "import time\n",
    "\n",
    "datagen = ImageDataGenerator(horizontal_flip=True)\n",
    "x = orig.reshape((1,) + orig.shape)  # this is a Numpy array with shape (1, 3, 150, 150)\n",
    "\n",
    "for img in datagen.flow(x, batch_size=1):\n",
    "    # mirror image\n",
    "    img = img.reshape((144,256,3))\n",
    "    mirrored_path = os.path.join(save_to_dir, 'mirrored.jpg')\n",
    "    plt.imsave(mirrored_path, img)\n",
    "   \n",
    "    # flip mirred image 180 degrees\n",
    "    img = tf.reshape(img, (144, 256, 3))\n",
    "    img = tf.image.rot90(img)\n",
    "    img = tf.image.rot90(img)\n",
    "    mirrored_flipped_path = os.path.join(save_to_dir, 'mirrored_flipped.jpg')\n",
    "    tf.keras.preprocessing.image.save_img(mirrored_flipped_path, img)\n",
    "    break"
   ]
  },
  {
   "cell_type": "code",
   "execution_count": 100,
   "metadata": {},
   "outputs": [
    {
     "data": {
      "text/plain": [
       "(144, 256, 3)"
      ]
     },
     "execution_count": 100,
     "metadata": {},
     "output_type": "execute_result"
    }
   ],
   "source": [
    "test = plt.imread(orig_path)\n",
    "test.shape"
   ]
  },
  {
   "cell_type": "code",
   "execution_count": null,
   "metadata": {},
   "outputs": [],
   "source": [
    "# ImageDataGenerator\n",
    "datagen = ImageDataGenerator(\n",
    "        featurewise_center=True,\n",
    "        featurewise_std_normalization=True,\n",
    "        rotation_range=45,\n",
    "        width_shift_range=0.2, # horizontal shift\n",
    "        height_shift_range=0.2, # vertical shift\n",
    "        zoom_range=0.2, # zoom\n",
    "        horizontal_flip=True, # horizontal flip\n",
    "        brightness_range=[0.2,1.2]) # brightness\n",
    "\n",
    "# compute quantities required for featurewise normalization\n",
    "# (std, mean, and principal components if ZCA whitening is applied)\n",
    "datagen.fit(X_train_rgb)\n",
    "\n",
    "# fits the model on batches with real-time data augmentation:\n",
    "model.fit_generator(datagen.flow(X_train_rgb, y_train_rgb, batch_size=32),\n",
    "                    steps_per_epoch=len(X_train_rgb) / 128, epochs=10, validation_data=(X_test_rgb, y_test_rgb))"
   ]
  },
  {
   "cell_type": "markdown",
   "metadata": {},
   "source": [
    "#### Train-test split"
   ]
  },
  {
   "cell_type": "code",
   "execution_count": 122,
   "metadata": {},
   "outputs": [],
   "source": [
    "X_train, X_val, y_train, y_val = train_test_split(X_data, y_data, test_size=0.2, random_state=12, stratify=y_data)"
   ]
  },
  {
   "cell_type": "markdown",
   "metadata": {},
   "source": [
    "#### Build the VGG Model"
   ]
  },
  {
   "cell_type": "code",
   "execution_count": 123,
   "metadata": {},
   "outputs": [],
   "source": [
    "input_dir = 'saved_model.hdf5'\n",
    "# path = join(par_dir, input_dir)\n",
    "model_checkpoint = ModelCheckpoint(filepath=input_dir, save_best_only=True)\n",
    "\n",
    "early_stopping = EarlyStopping(monitor='val_accuracy',\n",
    "                               min_delta=0,\n",
    "                               patience=10,\n",
    "                               verbose=1,\n",
    "                               mode='auto',\n",
    "                               restore_best_weights=True)"
   ]
  },
  {
   "cell_type": "code",
   "execution_count": 149,
   "metadata": {},
   "outputs": [],
   "source": [
    "def create_model(height, width):\n",
    "    base_model = VGG16(weights='imagenet', include_top=False, input_shape=(height, width, 3)) # topless model\n",
    "\n",
    "    # Add top\n",
    "    base = base_model.output\n",
    "    flat = Flatten()(base)\n",
    "    fc1 = Dense(128, activation='relu', name='fc1')(flat)\n",
    "    fc2 = Dense(128, activation='relu', name='fc2')(fc1)\n",
    "    fc3 = Dense(128, activation='relu', name='fc3')(fc2)\n",
    "    drop = Dropout(0.5)(fc3)\n",
    "    fc4 = Dense(64, activation='relu', name='fc4')(drop)\n",
    "    out = Dense(num_categories, activation='softmax')(fc4)\n",
    "    model = Model(inputs=base_model.input, outputs=out)\n",
    "\n",
    "    # Train top layers only\n",
    "    for layer in base_model.layers:\n",
    "        layer.trainable = False\n",
    "    return model\n",
    "\n",
    "height = X_train.shape[1]\n",
    "width = X_train.shape[2]\n",
    "num_categories = y_train.shape[1]\n",
    "try: \n",
    "    assert X_train.shape[3] == 3\n",
    "except AssertionError:\n",
    "    print(f'Training data has {X_train.shape[3]} color layers.')\n",
    "        \n",
    "model = create_model(height, width)\n",
    "model.compile(optimizer='Adam', loss='categorical_crossentropy', metrics=['accuracy'])"
   ]
  },
  {
   "cell_type": "code",
   "execution_count": 150,
   "metadata": {
    "scrolled": true
   },
   "outputs": [
    {
     "name": "stdout",
     "output_type": "stream",
     "text": [
      "Epoch 1/3\n",
      "29/29 [==============================] - 210s 7s/step - loss: 1.5022 - accuracy: 0.3455 - val_loss: 0.4826 - val_accuracy: 0.8150\n",
      "Epoch 2/3\n",
      "29/29 [==============================] - 228s 8s/step - loss: 0.4029 - accuracy: 0.8518 - val_loss: 0.0896 - val_accuracy: 0.9750\n",
      "Epoch 3/3\n",
      "29/29 [==============================] - 226s 8s/step - loss: 0.0942 - accuracy: 0.9723 - val_loss: 0.0794 - val_accuracy: 0.9750\n"
     ]
    },
    {
     "data": {
      "text/plain": [
       "<tensorflow.python.keras.callbacks.History at 0x1d29db0cb50>"
      ]
     },
     "execution_count": 150,
     "metadata": {},
     "output_type": "execute_result"
    }
   ],
   "source": [
    "# fit model\n",
    "model.fit(X_train, y_train, epochs=3, batch_size=64, validation_split=0.1, verbose=1, callbacks=[early_stopping, model_checkpoint])"
   ]
  },
  {
   "cell_type": "code",
   "execution_count": 181,
   "metadata": {},
   "outputs": [],
   "source": [
    "model_dir = 'C://Users//clemo//git//motion_identification//motion_identification//models'\n",
    "\n",
    "import datetime\n",
    "now = datetime.datetime.now()\n",
    "date = now.strftime(\"%Y-%m-%d_T%H_%M\")\n",
    "model_name = date + '_VGG_model.h5'\n",
    "import os\n",
    "model_path = os.path.join(model_dir, model_name)\n",
    "model.save(model_path)"
   ]
  },
  {
   "cell_type": "markdown",
   "metadata": {},
   "source": [
    "#### Save final model and test import"
   ]
  },
  {
   "cell_type": "code",
   "execution_count": 185,
   "metadata": {},
   "outputs": [],
   "source": [
    "model_dir = 'C://Users//clemo//git//motion_identification//motion_identification//models'\n",
    "model_paths = []\n",
    "for directory, subdirectories, files in os.walk(model_dir):\n",
    "    for file in files:\n",
    "        if file[-2:] == 'h5':\n",
    "            model_path = os.path.join(model_dir, file)\n",
    "            model_paths.append(model_path)\n",
    "model_paths\n",
    "from keras.models import load_model\n",
    "model2 = load_model(model_paths[0])"
   ]
  },
  {
   "cell_type": "markdown",
   "metadata": {},
   "source": [
    "#### Get classification metrics"
   ]
  },
  {
   "cell_type": "code",
   "execution_count": 206,
   "metadata": {},
   "outputs": [],
   "source": [
    "from sklearn.metrics import f1_score\n",
    "def get_classification_metrics(X_val, y_val):\n",
    "    pred = model.predict(X_val)\n",
    "#     pdb.set_trace()\n",
    "    pred = np.argmax(pred, axis=1)\n",
    "    y_true = np.argmax(y_val, axis=1)\n",
    "    print(classification_report(y_true, pred, target_names=['hey', 'you', 'there', 'this', 'is']))\n",
    "    test = pd.DataFrame(confusion_matrix(y_true, pred), \n",
    "             index=['hey', 'you', 'there', 'this', 'is'], columns=['hey', 'you', 'there', 'this', 'is'])\n",
    "    print(test)\n",
    "    print(f1_score(y_true, pred, average='micro'))"
   ]
  },
  {
   "cell_type": "code",
   "execution_count": 219,
   "metadata": {},
   "outputs": [
    {
     "data": {
      "text/plain": [
       "array([[0.10170583, 0.03374023, 0.19882494, 0.53836167, 0.1273673 ],\n",
       "       [0.09943277, 0.03823787, 0.20434614, 0.51653033, 0.14145283],\n",
       "       [0.08349452, 0.02642032, 0.17068663, 0.603272  , 0.11612646],\n",
       "       ...,\n",
       "       [0.09820886, 0.03500669, 0.20160364, 0.5267183 , 0.13846244],\n",
       "       [0.07855569, 0.02161136, 0.14509979, 0.659472  , 0.09526113],\n",
       "       [0.09034568, 0.03597779, 0.2041334 , 0.5233283 , 0.14621484]],\n",
       "      dtype=float32)"
      ]
     },
     "execution_count": 219,
     "metadata": {},
     "output_type": "execute_result"
    }
   ],
   "source": [
    "y_true = np.argmax(y_val, axis=1)\n",
    "pred = model.predict(X_val)\n",
    "pred"
   ]
  },
  {
   "cell_type": "code",
   "execution_count": 220,
   "metadata": {},
   "outputs": [
    {
     "data": {
      "text/plain": [
       "array([3, 3, 3, 3, 3, 3, 3, 3, 3, 3, 3, 3, 3, 3, 3, 3, 3, 3, 3, 3, 3, 3,\n",
       "       3, 3, 3, 3, 3, 3, 3, 3, 3, 3, 3, 3, 3, 3, 3, 3, 3, 3, 3, 3, 3, 3,\n",
       "       3, 3, 3, 3, 3, 3, 3, 3, 3, 3, 3, 3, 3, 3, 3, 3, 3, 3, 3, 3, 3, 3,\n",
       "       3, 3, 3, 3, 3, 3, 3, 3, 3, 3, 3, 3, 3, 3, 3, 3, 3, 3, 3, 3, 3, 3,\n",
       "       3, 3, 3, 3, 3, 3, 3, 3, 3, 3, 3, 3, 3, 3, 3, 3, 3, 3, 3, 3, 3, 3,\n",
       "       3, 3, 3, 3, 3, 3, 3, 3, 3, 3, 3, 3, 3, 3, 3, 3, 3, 3, 3, 3, 3, 3,\n",
       "       3, 3, 3, 3, 3, 3, 3, 3, 3, 3, 3, 3, 3, 3, 3, 3, 3, 3, 3, 3, 3, 3,\n",
       "       3, 3, 3, 3, 3, 3, 3, 3, 3, 3, 3, 3, 3, 3, 3, 3, 3, 3, 3, 3, 3, 3,\n",
       "       3, 3, 3, 3, 3, 3, 3, 3, 3, 3, 3, 3, 3, 3, 3, 3, 3, 3, 3, 3, 3, 3,\n",
       "       3, 3, 3, 3, 3, 3, 3, 3, 3, 3, 3, 3, 3, 3, 3, 3, 3, 3, 3, 3, 3, 3,\n",
       "       3, 3, 3, 3, 3, 3, 3, 3, 3, 3, 3, 3, 3, 3, 3, 3, 3, 3, 3, 3, 3, 3,\n",
       "       3, 3, 3, 3, 3, 3, 3, 3, 3, 3, 3, 3, 3, 3, 3, 3, 3, 3, 3, 3, 3, 3,\n",
       "       3, 3, 3, 3, 3, 3, 3, 3, 3, 3, 3, 3, 3, 3, 3, 3, 3, 3, 3, 3, 3, 3,\n",
       "       3, 3, 3, 3, 3, 3, 3, 3, 3, 3, 3, 3, 3, 3, 3, 3, 3, 3, 3, 3, 3, 3,\n",
       "       3, 3, 3, 3, 3, 3, 3, 3, 3, 3, 3, 3, 3, 3, 3, 3, 3, 3, 3, 3, 3, 3,\n",
       "       3, 3, 3, 3, 3, 3, 3, 3, 3, 3, 3, 3, 3, 3, 3, 3, 3, 3, 3, 3, 3, 3,\n",
       "       3, 3, 3, 3, 3, 3, 3, 3, 3, 3, 3, 3, 3, 3, 3, 3, 3, 3, 3, 3, 3, 3,\n",
       "       3, 3, 3, 3, 3, 3, 3, 3, 3, 3, 3, 3, 3, 3, 3, 3, 3, 3, 3, 3, 3, 3,\n",
       "       3, 3, 3, 3, 3, 3, 3, 3, 3, 3, 3, 3, 3, 3, 3, 3, 3, 3, 3, 3, 3, 3,\n",
       "       3, 3, 3, 3, 3, 3, 3, 3, 3, 3, 3, 3, 3, 3, 3, 3, 3, 3, 3, 3, 3, 3,\n",
       "       3, 3, 3, 3, 3, 3, 3, 3, 3, 3, 3, 3, 3, 3, 3, 3, 3, 3, 3, 3, 3, 3,\n",
       "       3, 3, 3, 3, 3, 3, 3, 3, 3, 3, 3, 3, 3, 3, 3, 3, 3, 3, 3, 3, 3, 3,\n",
       "       3, 3, 3, 3, 3, 3, 3, 3, 3, 3, 3, 3, 3, 3, 3, 3], dtype=int64)"
      ]
     },
     "execution_count": 220,
     "metadata": {},
     "output_type": "execute_result"
    }
   ],
   "source": [
    "np.argmax(pred, axis=1)"
   ]
  },
  {
   "cell_type": "markdown",
   "metadata": {},
   "source": [
    "**VGG_cross_validated model**"
   ]
  },
  {
   "cell_type": "code",
   "execution_count": 207,
   "metadata": {},
   "outputs": [
    {
     "name": "stdout",
     "output_type": "stream",
     "text": [
      "              precision    recall  f1-score   support\n",
      "\n",
      "         hey       0.00      0.00      0.00         9\n",
      "         you       0.00      0.00      0.00        10\n",
      "       there       0.00      0.00      0.00         7\n",
      "        this       0.24      1.00      0.39        12\n",
      "          is       0.00      0.00      0.00        12\n",
      "\n",
      "    accuracy                           0.24        50\n",
      "   macro avg       0.05      0.20      0.08        50\n",
      "weighted avg       0.06      0.24      0.09        50\n",
      "\n",
      "       hey  you  there  this  is\n",
      "hey      0    0      0     9   0\n",
      "you      0    0      0    10   0\n",
      "there    0    0      0     7   0\n",
      "this     0    0      0    12   0\n",
      "is       0    0      0    12   0\n",
      "0.24\n"
     ]
    },
    {
     "name": "stderr",
     "output_type": "stream",
     "text": [
      "c:\\users\\clemo\\appdata\\local\\programs\\python\\python38\\lib\\site-packages\\sklearn\\metrics\\_classification.py:1245: UndefinedMetricWarning: Precision and F-score are ill-defined and being set to 0.0 in labels with no predicted samples. Use `zero_division` parameter to control this behavior.\n",
      "  _warn_prf(average, modifier, msg_start, len(result))\n",
      "c:\\users\\clemo\\appdata\\local\\programs\\python\\python38\\lib\\site-packages\\sklearn\\metrics\\_classification.py:1245: UndefinedMetricWarning: Precision and F-score are ill-defined and being set to 0.0 in labels with no predicted samples. Use `zero_division` parameter to control this behavior.\n",
      "  _warn_prf(average, modifier, msg_start, len(result))\n",
      "c:\\users\\clemo\\appdata\\local\\programs\\python\\python38\\lib\\site-packages\\sklearn\\metrics\\_classification.py:1245: UndefinedMetricWarning: Precision and F-score are ill-defined and being set to 0.0 in labels with no predicted samples. Use `zero_division` parameter to control this behavior.\n",
      "  _warn_prf(average, modifier, msg_start, len(result))\n"
     ]
    }
   ],
   "source": [
    "get_classification_metrics(X_val[:50], y_val[:50])"
   ]
  },
  {
   "cell_type": "markdown",
   "metadata": {},
   "source": [
    "#### Predict gesture on a single image"
   ]
  },
  {
   "cell_type": "code",
   "execution_count": null,
   "metadata": {},
   "outputs": [],
   "source": [
    "# path = 'C://Users//clemo//git//motion_identification//model_preparation//2021_02_01_T14_28_23_fist//pure_data//218.jpg'\n",
    "okay_open_palm = 'C://Users//clemo//git//motion_identification//model_preparation//2021_01_29_T19_16_17_open_palm_without_glove//poor_data//176.jpg'\n",
    "tricky_open_palm = 'C://Users//clemo//git//motion_identification//model_preparation//2021_01_29_T19_16_17_open_palm_without_glove//poor_data//397.jpg'\n",
    "bad_open_palm = 'C://Users//clemo//git//motion_identification//model_preparation//2021_01_29_T19_16_17_open_palm_without_glove//poor_data//1606.jpg'\n",
    "bad_open_palm2 = 'C://Users//clemo//git//motion_identification//model_preparation//2021_01_29_T19_16_17_open_palm_without_glove//poor_data//112.jpg'\n",
    "tricky_open_palm2 = 'C://Users//clemo//git//motion_identification//model_preparation//2021_01_29_T19_16_17_open_palm_without_glove//poor_data//695.jpg'\n",
    "tricky_open_palm3 = 'C://Users//clemo//git//motion_identification//model_preparation//2021_01_29_T19_16_17_open_palm_without_glove//poor_data//1968.jpg'\n",
    "\n",
    "okay_fist = 'C://Users//clemo//git//motion_identification//model_preparation//2021_02_01_T14_28_23_fist//poor_data//535.jpg'\n",
    "tricky_open_palm = 'C://Users//clemo//git//motion_identification//model_preparation//2021_02_01_T14_28_23_fist//poor_data//553.jpg'\n",
    "bad_fist = 'C://Users//clemo//git//motion_identification//model_preparation//2021_02_01_T14_28_23_fist//good_data//1840.jpg'\n",
    "\n",
    "paths = []\n",
    "paths.append(okay_open_palm)\n",
    "paths.append(tricky_open_palm)\n",
    "paths.append(bad_open_palm)\n",
    "paths.append(bad_open_palm2)\n",
    "paths.append(okay_fist)\n",
    "paths.append(tricky_open_palm)\n",
    "paths.append(bad_fist)\n",
    "paths.append(tricky_open_palm2)\n",
    "paths.append(tricky_open_palm3)\n",
    "\n",
    "def predict_image(path):\n",
    "    img = Image.open(path)\n",
    "    img = np.array(img)\n",
    "    img = np.array(img, dtype = 'float32')\n",
    "    img = np.stack((img,)*3, axis=-1) # without comma, (X_data) is np.array not tuple\n",
    "    pdb.set_trace()\n",
    "#     img /= 255\n",
    "    img.resize((1, 144, 256, 3))\n",
    "    plt.figure()\n",
    "    plt.imshow(img[0])\n",
    "    return np.argmax(model2.predict(img))\n",
    "\n",
    "def load_image(path):\n",
    "    img = Image.open(path)\n",
    "    img = np.array(img)\n",
    "#     img = np.stack((img,)*3, axis=-1) # without comma, (X_data) is np.array not tuple\n",
    "#     img /= 255\n",
    "#     plt.figure()\n",
    "#     plt.imshow(img[0])\n",
    "    return img"
   ]
  },
  {
   "cell_type": "code",
   "execution_count": null,
   "metadata": {},
   "outputs": [],
   "source": [
    "results = []\n",
    "for path in paths:\n",
    "    result = predict_image(path)\n",
    "    results.append(result)\n",
    "print(results)"
   ]
  },
  {
   "cell_type": "markdown",
   "metadata": {},
   "source": [
    "#### Image Augmentation"
   ]
  },
  {
   "cell_type": "code",
   "execution_count": null,
   "metadata": {},
   "outputs": [],
   "source": [
    "# ImageDataGenerator\n",
    "datagen = ImageDataGenerator(\n",
    "        featurewise_center=True,\n",
    "        featurewise_std_normalization=True,\n",
    "        rotation_range=45,\n",
    "        width_shift_range=0.2, # horizontal shift\n",
    "        height_shift_range=0.2, # vertical shift\n",
    "        zoom_range=0.2, # zoom\n",
    "        horizontal_flip=True, # horizontal flip\n",
    "        brightness_range=[0.2,1.2]) # brightness\n",
    "\n",
    "# compute quantities required for featurewise normalization\n",
    "# (std, mean, and principal components if ZCA whitening is applied)\n",
    "datagen.fit(X_train_rgb)\n",
    "\n",
    "# fits the model on batches with real-time data augmentation:\n",
    "model.fit_generator(datagen.flow(X_train_rgb, y_train_rgb, batch_size=32),\n",
    "                    steps_per_epoch=len(X_train_rgb) / 128, epochs=10, validation_data=(X_test_rgb, y_test_rgb))"
   ]
  }
 ],
 "metadata": {
  "kernelspec": {
   "display_name": "Python 3",
   "language": "python",
   "name": "python3"
  },
  "language_info": {
   "codemirror_mode": {
    "name": "ipython",
    "version": 3
   },
   "file_extension": ".py",
   "mimetype": "text/x-python",
   "name": "python",
   "nbconvert_exporter": "python",
   "pygments_lexer": "ipython3",
   "version": "3.8.2"
  },
  "varInspector": {
   "cols": {
    "lenName": 16,
    "lenType": 16,
    "lenVar": 40
   },
   "kernels_config": {
    "python": {
     "delete_cmd_postfix": "",
     "delete_cmd_prefix": "del ",
     "library": "var_list.py",
     "varRefreshCmd": "print(var_dic_list())"
    },
    "r": {
     "delete_cmd_postfix": ") ",
     "delete_cmd_prefix": "rm(",
     "library": "var_list.r",
     "varRefreshCmd": "cat(var_dic_list()) "
    }
   },
   "types_to_exclude": [
    "module",
    "function",
    "builtin_function_or_method",
    "instance",
    "_Feature"
   ],
   "window_display": false
  }
 },
 "nbformat": 4,
 "nbformat_minor": 2
}

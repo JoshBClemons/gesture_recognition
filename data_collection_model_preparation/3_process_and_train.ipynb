{
 "cells": [
  {
   "cell_type": "code",
   "execution_count": 1,
   "metadata": {},
   "outputs": [
    {
     "name": "stderr",
     "output_type": "stream",
     "text": [
      "UsageError: Line magic function `%` not found.\n"
     ]
    }
   ],
   "source": [
    "import os\n",
    "import warnings\n",
    "import numpy as np\n",
    "import pandas as pd\n",
    "import pdb\n",
    "from PIL import Image\n",
    "import matplotlib.pyplot as plt\n",
    "import matplotlib.style as style\n",
    "\n",
    "% matplotlib inline\n",
    "style.use('seaborn-whitegrid')\n",
    "warnings.filterwarnings(action='once')"
   ]
  },
  {
   "cell_type": "markdown",
   "metadata": {},
   "source": [
    "## Prepare image data for training"
   ]
  },
  {
   "cell_type": "code",
   "execution_count": 3,
   "metadata": {},
   "outputs": [
    {
     "name": "stdout",
     "output_type": "stream",
     "text": [
      "Currently processing Open palm data.\n",
      "Currently processing Closed palm data.\n",
      "Currently processing L data.\n",
      "Currently processing Fist data.\n",
      "Currently processing Thumbs up data.\n",
      "X_data shape: (2500, 144, 256, 3)\n",
      "y_data shape: (2500, 5)\n"
     ]
    },
    {
     "data": {
      "text/plain": [
       "<matplotlib.image.AxesImage at 0x1abecb14b50>"
      ]
     },
     "execution_count": 3,
     "metadata": {},
     "output_type": "execute_result"
    },
    {
     "data": {
      "image/png": "[encoded data removed]",
      "text/plain": [
       "<Figure size 432x288 with 1 Axes>"
      ]
     },
     "metadata": {
      "needs_background": "light"
     },
     "output_type": "display_data"
    }
   ],
   "source": [
    "from keras.utils import to_categorical\n",
    "\n",
    "def process_image(path):\n",
    "    \"\"\"Opens image and converts to array.\"\"\"\n",
    "    img = Image.open(path)\n",
    "    img = np.array(img)\n",
    "    return img\n",
    "\n",
    "def process_data(X_data, y_data):\n",
    "    \"\"\"Converts each binary frame with dimensions MxNx1 to MxNx3 to mimic RGB pixel count. This is necessary since the VGG-16 model expects arrays with these dimensions.\"\"\"\n",
    "    X_data = np.array(X_data, dtype = 'float32')\n",
    "    X_data = np.stack((X_data,)*3, axis=-1)\n",
    "    X_data /= 255\n",
    "    y_data = np.array(y_data)\n",
    "    return X_data, y_data\n",
    "\n",
    "def get_gest_data(relative_paths, cat_num, max_count):\n",
    "    \"\"\"Uses image directory path and gesture category number to generate X_data and y_data arrays for particular gesture.\"\"\"\n",
    "    count_per_dir_dict = {}\n",
    "    num_dirs_in_excess = 0\n",
    "    count_remaining = max_count\n",
    "    X_data = []\n",
    "    for path in relative_paths:\n",
    "        for directory, subdirectories, files in os.walk(path):\n",
    "            num_files = len(files)\n",
    "        count_per_dir_dict[path] = num_files\n",
    "        if num_files <= max_count / len(dirs):\n",
    "            count_remaining -= len(files)\n",
    "        else:\n",
    "            num_dirs_in_excess += 1\n",
    "    for path in relative_paths:\n",
    "        X_data_temp = []\n",
    "        for directory, subdirectories, files in os.walk(path):\n",
    "            for file in files:\n",
    "                file_path = os.path.join(directory, file)\n",
    "                X_data_temp.append(process_image(file_path))\n",
    "        # if appropriate amount, process X_data as usual\n",
    "        if count_per_dir_dict[path] <= max_count / len(dirs):\n",
    "            X_data.extend(X_data_temp) \n",
    "        else: \n",
    "            count_for_dir = int(np.ceil(count_remaining/num_dirs_in_excess))\n",
    "            random_indices = np.random.choice(len(X_data_temp), size=count_for_dir, replace=False)\n",
    "            X_data_temp = [X_data_temp[i] for i in random_indices]\n",
    "            X_data.extend(X_data_temp) \n",
    "    y_data = [cat_num for i in range(len(X_data))]\n",
    "    X_data, y_data = process_data(X_data, y_data)\n",
    "    return X_data, y_data\n",
    "\n",
    "# gesture image directories\n",
    "op_input_dirs = ['2021_01_29_T19_16_17_open_palm_without_glove//pure_data']\n",
    "cp_input_dirs = ['2021_02_07_T22_01_32_closed_palm//good_data']\n",
    "l_input_dirs = ['2021_02_07_T22_02_36_L//good_data']\n",
    "fi_input_dirs = ['2021_02_01_T14_28_23_fist//pure_data']\n",
    "tu_input_dirs = ['2021_02_07_T22_03_02_thumbs_up//good_data//front', '2021_02_07_T22_03_02_thumbs_up//good_data//side']\n",
    "\n",
    "# dictionary mapping gesture abbreviation to category number, gesture name, and gesture directory\n",
    "gestures_dict = {\n",
    "    'op': [0, 'Open palm', op_input_dirs],\n",
    "    'cp': [1, 'Closed palm', cp_input_dirs],\n",
    "    'l_': [2, 'L', l_input_dirs],\n",
    "    'fi': [3, 'Fist', fi_input_dirs],\n",
    "    'tu': [4, 'Thumbs up', tu_input_dirs],\n",
    "    }\n",
    "\n",
    "# Process image datasets into arrays x_data (contains array for each frame) and y_data (contains gesture label)\n",
    "max_count = 500    # number of images per gesture. This number of based off of least-frequenty occurring gesture in dataset\n",
    "try:\n",
    "    del X_data, y_data, X_data_prev, y_data_prev\n",
    "except:\n",
    "    pass\n",
    "X_data = []\n",
    "y_data = []\n",
    "for key in list(gestures_dict.keys()):\n",
    "    # Get x_data y_data for individual gesture\n",
    "    cat_num = gestures_dict[key][0]\n",
    "    name = gestures_dict[key][1]\n",
    "    dirs = gestures_dict[key][2]\n",
    "    print(f'Currently processing {name} data.')\n",
    "    X_data_gest, y_data_gest = get_gest_data(dirs, cat_num, max_count)\n",
    "\n",
    "    # concatenate data for each gesture into X_data and y_data arrays\n",
    "    try:\n",
    "        X_data = np.concatenate((X_data_gest, X_data), axis=0)\n",
    "        y_data = np.concatenate((y_data_gest, y_data), axis=0)\n",
    "    except:\n",
    "        X_data = X_data_gest\n",
    "        y_data = y_data_gest\n",
    "\n",
    "# converts gesture names to numbers \n",
    "y_data = to_categorical(y_data)\n",
    "\n",
    "# show results\n",
    "print(f'X_data shape: {X_data.shape}')\n",
    "print(f'y_data shape: {y_data.shape}')\n",
    "plt.imshow(X_data[0])"
   ]
  },
  {
   "cell_type": "markdown",
   "metadata": {},
   "source": [
    "### Generate augmented images to improve model training results"
   ]
  },
  {
   "cell_type": "code",
   "execution_count": 4,
   "metadata": {},
   "outputs": [],
   "source": [
    "from keras.preprocessing.image import ImageDataGenerator\n",
    "import tensorflow as tf\n",
    "import math\n",
    "import cv2\n",
    "import os\n",
    "\n",
    "def rotate(frame):\n",
    "    \"\"\"Generate rotated versions of image.\"\"\"\n",
    "\n",
    "    # flip image\n",
    "    frame_flipped = tf.image.rot90(frame)\n",
    "    frame_flipped = tf.image.rot90(frame_flipped)\n",
    "    frame_flipped = np.array(frame_flipped)\n",
    "    frame_flipped = cv2.cvtColor(frame_flipped, cv2.COLOR_BGR2GRAY)\n",
    "\n",
    "    # mirror image \n",
    "    datagen = ImageDataGenerator(horizontal_flip=True)\n",
    "    frame_ext = frame.reshape((1,) + frame.shape) \n",
    "    for frame_mirrored in datagen.flow(frame_ext, batch_size=1):\n",
    "        frame_mirrored = frame_mirrored.reshape((144,256,3))\n",
    "\n",
    "        # flip mirrored image\n",
    "        frame_mirrored_flipped = tf.image.rot90(frame_mirrored)\n",
    "        frame_mirrored_flipped = tf.image.rot90(frame_mirrored_flipped)\n",
    "        frame_mirrored_flipped = np.array(frame_mirrored_flipped)\n",
    "        frame_mirrored_flipped = cv2.cvtColor(frame_mirrored_flipped, cv2.COLOR_BGR2GRAY)\n",
    "\n",
    "        # mirrored image\n",
    "        frame_mirrored = cv2.cvtColor(frame_mirrored, cv2.COLOR_BGR2GRAY)\n",
    "        break\n",
    "\n",
    "    # package results in dictionary\n",
    "    rotated_frames = []\n",
    "    rotated_frames.append(frame_flipped)\n",
    "    rotated_frames.append(frame_mirrored)\n",
    "    rotated_frames.append(frame_mirrored_flipped)\n",
    "    return rotated_frames\n",
    "\n",
    "X_data_rot = []\n",
    "y_data_rot = []\n",
    "for i in range(len(X_data[0:10])):\n",
    "    image = X_data[i]\n",
    "    rotated_frames = rotate(image)\n",
    "    X_data_rot.extend(rotated_frames)\n",
    "    for j in range(len(rotated_frames)):\n",
    "        y_data_rot.append(y_data[i])\n",
    "X_data_rot, y_data_rot = process_data(X_data_rot, y_data_rot)\n",
    "X_data_all = np.append(X_data, X_data_rot, axis=0)\n",
    "y_data_all = np.append(y_data, y_data_rot, axis=0)"
   ]
  },
  {
   "cell_type": "markdown",
   "metadata": {},
   "source": [
    "### Build the VGG Model"
   ]
  },
  {
   "cell_type": "code",
   "execution_count": 5,
   "metadata": {
    "scrolled": true
   },
   "outputs": [
    {
     "name": "stdout",
     "output_type": "stream",
     "text": [
      "1/1 [==============================] - 3s 3s/step - loss: 1.5664 - accuracy: 0.2222 - val_loss: 2.7645 - val_accuracy: 0.0000e+00\n",
      "INFO:tensorflow:Assets written to: C:\\Users\\clemo\\git\\gesture_recognition\\data_collection_model_preparation\\models\\assets\n",
      "[INFO] Model training took 7.358792543411255 seconds with 10 data points\n"
     ]
    }
   ],
   "source": [
    "import time\n",
    "import datetime\n",
    "from keras.applications import VGG16\n",
    "from keras.callbacks import EarlyStopping, ModelCheckpoint\n",
    "from keras.layers import Dense, Dropout, Flatten\n",
    "from keras.models import Model\n",
    "from sklearn.model_selection import train_test_split\n",
    "\n",
    "def create_model(height, width, num_categories):\n",
    "    \"\"\"Create new VGG-16 model. Return model.\"\"\"\n",
    "    # Fetch base VGG16 model \n",
    "    base_model = VGG16(weights='imagenet', include_top=False, input_shape=(height, width, 3))\n",
    "\n",
    "    # Add top to model\n",
    "    base = base_model.output\n",
    "    flat = Flatten()(base)\n",
    "    fc1 = Dense(128, activation='relu', name='fc1')(flat)\n",
    "    fc2 = Dense(128, activation='relu', name='fc2')(fc1)\n",
    "    fc3 = Dense(128, activation='relu', name='fc3')(fc2)\n",
    "    drop = Dropout(0.5)(fc3)\n",
    "    fc4 = Dense(64, activation='relu', name='fc4')(drop)\n",
    "    out = Dense(num_categories, activation='softmax')(fc4)\n",
    "    model = Model(inputs=base_model.input, outputs=out)\n",
    "\n",
    "    # Train top layers only\n",
    "    for layer in base_model.layers:\n",
    "        layer.trainable = False\n",
    "\n",
    "    return model\n",
    "\n",
    "def build_and_save_model(X_train, y_train, model_dir):\n",
    "    \"\"\"Build and save new VGG-16 model using confident predictions from database. Return trained model path and training date.\"\"\"\n",
    "    # define callback functions\n",
    "    model_checkpoint = ModelCheckpoint(filepath=model_dir, save_best_only=True)\n",
    "    early_stopping = EarlyStopping(monitor='val_accuracy',\n",
    "                                min_delta=0,\n",
    "                                patience=10,\n",
    "                                verbose=1,\n",
    "                                mode='auto',\n",
    "                                restore_best_weights=True)\n",
    "    # create model\n",
    "    height = X_train.shape[1]\n",
    "    width = X_train.shape[2]\n",
    "    num_categories = y_train.shape[1]\n",
    "    try: \n",
    "        assert X_train.shape[3] == 3\n",
    "    except AssertionError:\n",
    "        print(f'[ERROR] Training data has {X_train.shape[3]} color layers. Model requires 3.')\n",
    "    model = create_model(height, width, num_categories)\n",
    "    model.compile(optimizer='Adam', loss='categorical_crossentropy', metrics=['accuracy'])\n",
    "\n",
    "    # fit model\n",
    "    start_time = time.time()\n",
    "    model.fit(X_train, y_train, epochs=1, batch_size=64, validation_split=0.1, verbose=1, callbacks=[early_stopping, model_checkpoint])\n",
    "    print(f'[INFO] Model training took {time.time() - start_time} seconds with {len(X_train)} data points')\n",
    "\n",
    "    # save model\n",
    "    training_date = datetime.datetime.now()\n",
    "    date = training_date.strftime(\"%Y-%m-%d_T%H_%M\")\n",
    "    model_name = date + '.h5'\n",
    "    model_path = os.path.join(model_dir, model_name)\n",
    "    model.save(model_path)\n",
    "    \n",
    "    return model\n",
    "\n",
    "X_train, X_test, y_train, y_test = train_test_split(X_data_all, y_data_all, test_size=0.2, random_state=12, stratify=y_data_all)\n",
    "model_dir = os.path.join(os.getcwd(), 'models')\n",
    "model = build_and_save_model(X_train[0:10], y_train[0:10], model_dir)"
   ]
  },
  {
   "cell_type": "markdown",
   "metadata": {},
   "source": [
    "### Evaluate model"
   ]
  },
  {
   "cell_type": "code",
   "execution_count": 8,
   "metadata": {},
   "outputs": [
    {
     "name": "stdout",
     "output_type": "stream",
     "text": [
      "[INFO] Model evaluation took 1.3340306282043457 seconds with 2024 data points. Average prediction time = 0.0006591060416029376\n",
      "              precision  recall  f1-score  support\n",
      "Open palm         0.000   0.000     0.000     2.00\n",
      "Closed palm       0.000   0.000     0.000     1.00\n",
      "L                 1.000   0.333     0.500     3.00\n",
      "Fist              0.000   0.000     0.000     2.00\n",
      "Thumbs up         0.333   0.500     0.400     4.00\n",
      "accuracy          0.250   0.250     0.250     0.25\n",
      "macro avg         0.267   0.167     0.180    12.00\n",
      "weighted avg      0.361   0.250     0.258    12.00\n",
      "             Open palm  Closed palm  L  Fist  Thumbs up\n",
      "Open palm            0            0  0     2          0\n",
      "Closed palm          0            0  0     0          1\n",
      "L                    0            0  1     1          1\n",
      "Fist                 0            0  0     0          2\n",
      "Thumbs up            0            0  0     2          2\n"
     ]
    }
   ],
   "source": [
    "from sklearn.metrics import classification_report, confusion_matrix\n",
    "\n",
    "def evaluate_model(model, X_test, y_test, labels):\n",
    "    \"\"\"Evaluate model performance. Return F1-score, evaluation date, evaluation time, predicted values, and true values.\"\"\"\n",
    "    start_time = time.time()\n",
    "\n",
    "    # evaluate model performance on validation data\n",
    "    all_preds = model.predict(X_test)\n",
    "    y_pred = np.argmax(all_preds, axis=1).tolist()\n",
    "    y_true = np.argmax(np.array(y_test), axis=1).tolist()\n",
    "\n",
    "    # generate and save classification_report\n",
    "    report = classification_report(y_true, y_pred, target_names=labels, zero_division=0, output_dict=True)\n",
    "    df_report = pd.DataFrame(report).transpose()\n",
    "\n",
    "    # generate and save confusion matrix\n",
    "    df_confusion_matrix = pd.DataFrame(confusion_matrix(y_true, y_pred), columns=labels, index=labels)   \n",
    "\n",
    "    eval_time = time.time()-start_time\n",
    "    print(f'[INFO] Model evaluation took {eval_time} seconds with {len(X_train)} data points. Average prediction time = {eval_time/len(X_train)}')\n",
    "    \n",
    "    return [df_report.round(3), df_confusion_matrix]\n",
    "\n",
    "# Compute model classification report and confusion matrix\n",
    "labels = list(pd.DataFrame(list(gestures_dict.values()))[1])\n",
    "[class_report, con_matrix] = evaluate_model(model, X_test[0:12], y_test[0:12], labels)\n",
    "print(class_report)\n",
    "print(con_matrix)"
   ]
  },
  {
   "cell_type": "markdown",
   "metadata": {},
   "source": [
    "### Predict gesture of sample image"
   ]
  },
  {
   "cell_type": "code",
   "execution_count": 9,
   "metadata": {},
   "outputs": [
    {
     "name": "stderr",
     "output_type": "stream",
     "text": [
      "Clipping input data to the valid range for imshow with RGB data ([0..1] for floats or [0..255] for integers).\n"
     ]
    },
    {
     "name": "stdout",
     "output_type": "stream",
     "text": [
      "Fist\n"
     ]
    },
    {
     "data": {
      "image/png": "[encoded data removed]",
      "text/plain": [
       "<Figure size 432x288 with 1 Axes>"
      ]
     },
     "metadata": {
      "needs_background": "light"
     },
     "output_type": "display_data"
    }
   ],
   "source": [
    "sample_image = os.path.join(os.getcwd(), '2021_01_29_T19_16_17_open_palm_without_glove', 'poor_data', '176.jpg')\n",
    "\n",
    "def predict_image(path):\n",
    "    img = Image.open(path)\n",
    "    img = np.array(img)\n",
    "    img = np.array(img, dtype = 'float32')\n",
    "    img = np.stack((img,)*3, axis=-1) # without comma, (X_data) is np.array not tuple\n",
    "    img.resize((1, 144, 256, 3))\n",
    "    plt.figure()\n",
    "    plt.imshow(img[0])\n",
    "    pred_index = np.argmax(model.predict(img))\n",
    "    return pred_index\n",
    "\n",
    "pred_index = predict_image(sample_image)\n",
    "pred_gest = pd.DataFrame(list(gestures_dict.values())).iloc[pred_index][1]\n",
    "print(pred_gest)"
   ]
  }
 ],
 "metadata": {
  "kernelspec": {
   "display_name": "Python 3",
   "language": "python",
   "name": "python3"
  },
  "language_info": {
   "codemirror_mode": {
    "name": "ipython",
    "version": 3
   },
   "file_extension": ".py",
   "mimetype": "text/x-python",
   "name": "python",
   "nbconvert_exporter": "python",
   "pygments_lexer": "ipython3",
   "version": "3.8.2"
  },
  "varInspector": {
   "cols": {
    "lenName": 16,
    "lenType": 16,
    "lenVar": 40
   },
   "kernels_config": {
    "python": {
     "delete_cmd_postfix": "",
     "delete_cmd_prefix": "del ",
     "library": "var_list.py",
     "varRefreshCmd": "print(var_dic_list())"
    },
    "r": {
     "delete_cmd_postfix": ") ",
     "delete_cmd_prefix": "rm(",
     "library": "var_list.r",
     "varRefreshCmd": "cat(var_dic_list()) "
    }
   },
   "types_to_exclude": [
    "module",
    "function",
    "builtin_function_or_method",
    "instance",
    "_Feature"
   ],
   "window_display": false
  }
 },
 "nbformat": 4,
 "nbformat_minor": 2
}
